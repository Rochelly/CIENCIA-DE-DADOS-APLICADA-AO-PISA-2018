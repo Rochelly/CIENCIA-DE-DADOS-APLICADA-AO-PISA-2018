{
 "cells": [
  {
   "cell_type": "markdown",
   "metadata": {},
   "source": [
    "# Modelagem dataset professores  com  árvore de decisão"
   ]
  },
  {
   "cell_type": "markdown",
   "metadata": {},
   "source": [
    "## Importando as Bibliotecas Necessárias"
   ]
  },
  {
   "cell_type": "code",
   "execution_count": 4,
   "metadata": {},
   "outputs": [],
   "source": [
    "import pandas as pd\n",
    "import numpy as numpy\n",
    "import matplotlib.pyplot as pyplot\n",
    "import seaborn as sns\n",
    "%matplotlib inline"
   ]
  },
  {
   "cell_type": "markdown",
   "metadata": {},
   "source": [
    "## Carregando o dataset"
   ]
  },
  {
   "cell_type": "code",
   "execution_count": 5,
   "metadata": {},
   "outputs": [],
   "source": [
    "#Carregando o Datset\n",
    "pathTeach='00-Bases-de-dados/Professores-Otimizada-Niveis/pisa-professores.csv'\n",
    "professoresDF =  pd.read_csv(pathTeach)\n",
    "professoresDF = professoresDF.drop(['Unnamed: 0'],axis=1) # \n",
    "\n"
   ]
  },
  {
   "cell_type": "markdown",
   "metadata": {},
   "source": [
    "## Verificando o Balanceamento das classes"
   ]
  },
  {
   "cell_type": "code",
   "execution_count": 6,
   "metadata": {},
   "outputs": [
    {
     "name": "stdout",
     "output_type": "stream",
     "text": [
      "Baixa    22991\n",
      "Alta     18696\n",
      "Name: nivelMatematica, dtype: int64\n"
     ]
    },
    {
     "name": "stderr",
     "output_type": "stream",
     "text": [
      "/home/rochelly/.local/lib/python3.7/site-packages/seaborn/_decorators.py:43: FutureWarning: Pass the following variable as a keyword arg: x. From version 0.12, the only valid positional argument will be `data`, and passing other arguments without an explicit keyword will result in an error or misinterpretation.\n",
      "  FutureWarning\n"
     ]
    },
    {
     "data": {
      "text/html": [
       "<svg  width=\"440\" height=\"55\"><rect x=\"0\" y=\"0\" width=\"55\" height=\"55\" style=\"fill:#db5f57;stroke-width:2;stroke:rgb(255,255,255)\"/><rect x=\"55\" y=\"0\" width=\"55\" height=\"55\" style=\"fill:#dbc257;stroke-width:2;stroke:rgb(255,255,255)\"/><rect x=\"110\" y=\"0\" width=\"55\" height=\"55\" style=\"fill:#91db57;stroke-width:2;stroke:rgb(255,255,255)\"/><rect x=\"165\" y=\"0\" width=\"55\" height=\"55\" style=\"fill:#57db80;stroke-width:2;stroke:rgb(255,255,255)\"/><rect x=\"220\" y=\"0\" width=\"55\" height=\"55\" style=\"fill:#57d3db;stroke-width:2;stroke:rgb(255,255,255)\"/><rect x=\"275\" y=\"0\" width=\"55\" height=\"55\" style=\"fill:#5770db;stroke-width:2;stroke:rgb(255,255,255)\"/><rect x=\"330\" y=\"0\" width=\"55\" height=\"55\" style=\"fill:#a157db;stroke-width:2;stroke:rgb(255,255,255)\"/><rect x=\"385\" y=\"0\" width=\"55\" height=\"55\" style=\"fill:#db57b2;stroke-width:2;stroke:rgb(255,255,255)\"/></svg>"
      ],
      "text/plain": [
       "[(0.86, 0.3712, 0.33999999999999997),\n",
       " (0.86, 0.7612000000000001, 0.33999999999999997),\n",
       " (0.5688000000000001, 0.86, 0.33999999999999997),\n",
       " (0.33999999999999997, 0.86, 0.5012000000000001),\n",
       " (0.33999999999999997, 0.8287999999999999, 0.86),\n",
       " (0.33999999999999997, 0.43879999999999986, 0.86),\n",
       " (0.6311999999999998, 0.33999999999999997, 0.86),\n",
       " (0.86, 0.33999999999999997, 0.6987999999999996)]"
      ]
     },
     "execution_count": 6,
     "metadata": {},
     "output_type": "execute_result"
    },
    {
     "data": {
      "image/png": "[encoded data removed]",
      "text/plain": [
       "<Figure size 432x288 with 1 Axes>"
      ]
     },
     "metadata": {
      "needs_background": "light"
     },
     "output_type": "display_data"
    }
   ],
   "source": [
    "# ver o balanceamento das classes\n",
    "print(professoresDF.nivelMatematica.value_counts())\n",
    "#print(\"\\nFraudes representam {:.4f}% do dataset.\\n\".format((professoresDF[professoresDF.nivelMatematica == 1].shape[0] / professoresDF.shape[0]) * 100))\n",
    "\n",
    "\n",
    "#plt.figure(figsize=(10,5))\n",
    "sns.set_context(\"paper\",font_scale=1.2)\n",
    "plot = sns.countplot('nivelMatematica', data=professoresDF);\n",
    "pyplot.xticks(\n",
    "   #rotation=45, \n",
    "   horizontalalignment='right',\n",
    "   fontweight='light',\n",
    "   #fontsize='x-large'  \n",
    ")\n",
    "#pyplot.legend(loc='upper right')\n",
    "plot.set(xlabel='Classes de Desempenho',ylabel='Quantidade')\n",
    "#leg = plot.get_legend()sns.color_palette(\"tab10\")\n",
    "sns.color_palette(\"tab10\")\n",
    "sns.color_palette(\"hls\", 8)"
   ]
  },
  {
   "cell_type": "markdown",
   "metadata": {},
   "source": [
    "## Separando as variáveis x e y"
   ]
  },
  {
   "cell_type": "code",
   "execution_count": 7,
   "metadata": {},
   "outputs": [],
   "source": [
    "from  sklearn.model_selection  import train_test_split"
   ]
  },
  {
   "cell_type": "code",
   "execution_count": 8,
   "metadata": {},
   "outputs": [],
   "source": [
    "x = professoresDF.drop(['nivelMatematica','nivelCiencias'],axis=1) # \n",
    "y = professoresDF['nivelMatematica'] \n"
   ]
  },
  {
   "cell_type": "code",
   "execution_count": 9,
   "metadata": {},
   "outputs": [
    {
     "data": {
      "text/html": [
       "<div>\n",
       "<style scoped>\n",
       "    .dataframe tbody tr th:only-of-type {\n",
       "        vertical-align: middle;\n",
       "    }\n",
       "\n",
       "    .dataframe tbody tr th {\n",
       "        vertical-align: top;\n",
       "    }\n",
       "\n",
       "    .dataframe thead th {\n",
       "        text-align: right;\n",
       "    }\n",
       "</style>\n",
       "<table border=\"1\" class=\"dataframe\">\n",
       "  <thead>\n",
       "    <tr style=\"text-align: right;\">\n",
       "      <th></th>\n",
       "      <th>TC001Q01NA</th>\n",
       "      <th>TC002Q01NA</th>\n",
       "      <th>TC186Q01HA</th>\n",
       "      <th>TC005Q01NA</th>\n",
       "      <th>TC007Q01NA</th>\n",
       "      <th>TC007Q02NA</th>\n",
       "      <th>TC188Q01HA</th>\n",
       "      <th>TC014Q01HA</th>\n",
       "      <th>TC015Q01NA</th>\n",
       "      <th>TC018Q01NA</th>\n",
       "      <th>...</th>\n",
       "      <th>TC192Q01HA</th>\n",
       "      <th>TC192Q02HA</th>\n",
       "      <th>TC192Q05HA</th>\n",
       "      <th>TC176Q01HA</th>\n",
       "      <th>TC176Q02HA</th>\n",
       "      <th>TC176Q03HA</th>\n",
       "      <th>TC176Q06HA</th>\n",
       "      <th>TC176Q07HA</th>\n",
       "      <th>TC172Q01HA</th>\n",
       "      <th>TC173Q01HA</th>\n",
       "    </tr>\n",
       "  </thead>\n",
       "  <tbody>\n",
       "    <tr>\n",
       "      <th>0</th>\n",
       "      <td>1.0</td>\n",
       "      <td>40.0</td>\n",
       "      <td>1.0</td>\n",
       "      <td>1.0</td>\n",
       "      <td>10.0</td>\n",
       "      <td>10.0</td>\n",
       "      <td>1.0</td>\n",
       "      <td>2.0</td>\n",
       "      <td>1.0</td>\n",
       "      <td>1.0</td>\n",
       "      <td>...</td>\n",
       "      <td>3.0</td>\n",
       "      <td>3.0</td>\n",
       "      <td>3.0</td>\n",
       "      <td>4.0</td>\n",
       "      <td>3.0</td>\n",
       "      <td>4.0</td>\n",
       "      <td>3.0</td>\n",
       "      <td>4.0</td>\n",
       "      <td>2.0</td>\n",
       "      <td>2.0</td>\n",
       "    </tr>\n",
       "    <tr>\n",
       "      <th>1</th>\n",
       "      <td>2.0</td>\n",
       "      <td>26.0</td>\n",
       "      <td>1.0</td>\n",
       "      <td>1.0</td>\n",
       "      <td>5.0</td>\n",
       "      <td>5.0</td>\n",
       "      <td>1.0</td>\n",
       "      <td>1.0</td>\n",
       "      <td>1.0</td>\n",
       "      <td>0.0</td>\n",
       "      <td>...</td>\n",
       "      <td>2.0</td>\n",
       "      <td>2.0</td>\n",
       "      <td>2.0</td>\n",
       "      <td>4.0</td>\n",
       "      <td>4.0</td>\n",
       "      <td>4.0</td>\n",
       "      <td>4.0</td>\n",
       "      <td>4.0</td>\n",
       "      <td>2.0</td>\n",
       "      <td>4.0</td>\n",
       "    </tr>\n",
       "    <tr>\n",
       "      <th>2</th>\n",
       "      <td>2.0</td>\n",
       "      <td>38.0</td>\n",
       "      <td>1.0</td>\n",
       "      <td>1.0</td>\n",
       "      <td>11.0</td>\n",
       "      <td>16.0</td>\n",
       "      <td>1.0</td>\n",
       "      <td>2.0</td>\n",
       "      <td>1.0</td>\n",
       "      <td>0.0</td>\n",
       "      <td>...</td>\n",
       "      <td>3.0</td>\n",
       "      <td>3.0</td>\n",
       "      <td>3.0</td>\n",
       "      <td>4.0</td>\n",
       "      <td>5.0</td>\n",
       "      <td>5.0</td>\n",
       "      <td>4.0</td>\n",
       "      <td>4.0</td>\n",
       "      <td>3.0</td>\n",
       "      <td>5.0</td>\n",
       "    </tr>\n",
       "    <tr>\n",
       "      <th>3</th>\n",
       "      <td>1.0</td>\n",
       "      <td>42.0</td>\n",
       "      <td>1.0</td>\n",
       "      <td>1.0</td>\n",
       "      <td>2.0</td>\n",
       "      <td>3.0</td>\n",
       "      <td>1.0</td>\n",
       "      <td>2.0</td>\n",
       "      <td>1.0</td>\n",
       "      <td>0.0</td>\n",
       "      <td>...</td>\n",
       "      <td>2.0</td>\n",
       "      <td>2.0</td>\n",
       "      <td>3.0</td>\n",
       "      <td>2.0</td>\n",
       "      <td>3.0</td>\n",
       "      <td>4.0</td>\n",
       "      <td>2.0</td>\n",
       "      <td>4.0</td>\n",
       "      <td>2.0</td>\n",
       "      <td>3.0</td>\n",
       "    </tr>\n",
       "    <tr>\n",
       "      <th>4</th>\n",
       "      <td>1.0</td>\n",
       "      <td>30.0</td>\n",
       "      <td>1.0</td>\n",
       "      <td>1.0</td>\n",
       "      <td>5.0</td>\n",
       "      <td>5.0</td>\n",
       "      <td>1.0</td>\n",
       "      <td>1.0</td>\n",
       "      <td>1.0</td>\n",
       "      <td>0.0</td>\n",
       "      <td>...</td>\n",
       "      <td>2.0</td>\n",
       "      <td>3.0</td>\n",
       "      <td>3.0</td>\n",
       "      <td>5.0</td>\n",
       "      <td>5.0</td>\n",
       "      <td>5.0</td>\n",
       "      <td>4.0</td>\n",
       "      <td>5.0</td>\n",
       "      <td>2.0</td>\n",
       "      <td>3.0</td>\n",
       "    </tr>\n",
       "    <tr>\n",
       "      <th>...</th>\n",
       "      <td>...</td>\n",
       "      <td>...</td>\n",
       "      <td>...</td>\n",
       "      <td>...</td>\n",
       "      <td>...</td>\n",
       "      <td>...</td>\n",
       "      <td>...</td>\n",
       "      <td>...</td>\n",
       "      <td>...</td>\n",
       "      <td>...</td>\n",
       "      <td>...</td>\n",
       "      <td>...</td>\n",
       "      <td>...</td>\n",
       "      <td>...</td>\n",
       "      <td>...</td>\n",
       "      <td>...</td>\n",
       "      <td>...</td>\n",
       "      <td>...</td>\n",
       "      <td>...</td>\n",
       "      <td>...</td>\n",
       "      <td>...</td>\n",
       "    </tr>\n",
       "    <tr>\n",
       "      <th>41682</th>\n",
       "      <td>2.0</td>\n",
       "      <td>63.0</td>\n",
       "      <td>1.0</td>\n",
       "      <td>1.0</td>\n",
       "      <td>18.0</td>\n",
       "      <td>39.0</td>\n",
       "      <td>2.0</td>\n",
       "      <td>2.0</td>\n",
       "      <td>1.0</td>\n",
       "      <td>0.0</td>\n",
       "      <td>...</td>\n",
       "      <td>3.0</td>\n",
       "      <td>3.0</td>\n",
       "      <td>3.0</td>\n",
       "      <td>5.0</td>\n",
       "      <td>4.0</td>\n",
       "      <td>5.0</td>\n",
       "      <td>2.0</td>\n",
       "      <td>5.0</td>\n",
       "      <td>4.0</td>\n",
       "      <td>3.0</td>\n",
       "    </tr>\n",
       "    <tr>\n",
       "      <th>41683</th>\n",
       "      <td>1.0</td>\n",
       "      <td>49.0</td>\n",
       "      <td>1.0</td>\n",
       "      <td>2.0</td>\n",
       "      <td>14.0</td>\n",
       "      <td>14.0</td>\n",
       "      <td>1.0</td>\n",
       "      <td>1.0</td>\n",
       "      <td>1.0</td>\n",
       "      <td>1.0</td>\n",
       "      <td>...</td>\n",
       "      <td>3.0</td>\n",
       "      <td>2.0</td>\n",
       "      <td>2.0</td>\n",
       "      <td>5.0</td>\n",
       "      <td>5.0</td>\n",
       "      <td>5.0</td>\n",
       "      <td>3.0</td>\n",
       "      <td>4.0</td>\n",
       "      <td>2.0</td>\n",
       "      <td>2.0</td>\n",
       "    </tr>\n",
       "    <tr>\n",
       "      <th>41684</th>\n",
       "      <td>1.0</td>\n",
       "      <td>42.0</td>\n",
       "      <td>1.0</td>\n",
       "      <td>1.0</td>\n",
       "      <td>6.0</td>\n",
       "      <td>17.0</td>\n",
       "      <td>1.0</td>\n",
       "      <td>1.0</td>\n",
       "      <td>1.0</td>\n",
       "      <td>0.0</td>\n",
       "      <td>...</td>\n",
       "      <td>3.0</td>\n",
       "      <td>3.0</td>\n",
       "      <td>3.0</td>\n",
       "      <td>5.0</td>\n",
       "      <td>3.0</td>\n",
       "      <td>4.0</td>\n",
       "      <td>2.0</td>\n",
       "      <td>4.0</td>\n",
       "      <td>2.0</td>\n",
       "      <td>3.0</td>\n",
       "    </tr>\n",
       "    <tr>\n",
       "      <th>41685</th>\n",
       "      <td>2.0</td>\n",
       "      <td>25.0</td>\n",
       "      <td>1.0</td>\n",
       "      <td>1.0</td>\n",
       "      <td>1.0</td>\n",
       "      <td>1.0</td>\n",
       "      <td>1.0</td>\n",
       "      <td>1.0</td>\n",
       "      <td>1.0</td>\n",
       "      <td>0.0</td>\n",
       "      <td>...</td>\n",
       "      <td>3.0</td>\n",
       "      <td>3.0</td>\n",
       "      <td>3.0</td>\n",
       "      <td>5.0</td>\n",
       "      <td>4.0</td>\n",
       "      <td>4.0</td>\n",
       "      <td>3.0</td>\n",
       "      <td>4.0</td>\n",
       "      <td>1.0</td>\n",
       "      <td>3.0</td>\n",
       "    </tr>\n",
       "    <tr>\n",
       "      <th>41686</th>\n",
       "      <td>2.0</td>\n",
       "      <td>59.0</td>\n",
       "      <td>1.0</td>\n",
       "      <td>1.0</td>\n",
       "      <td>20.0</td>\n",
       "      <td>35.0</td>\n",
       "      <td>1.0</td>\n",
       "      <td>1.0</td>\n",
       "      <td>1.0</td>\n",
       "      <td>0.0</td>\n",
       "      <td>...</td>\n",
       "      <td>2.0</td>\n",
       "      <td>2.0</td>\n",
       "      <td>2.0</td>\n",
       "      <td>5.0</td>\n",
       "      <td>4.0</td>\n",
       "      <td>5.0</td>\n",
       "      <td>2.0</td>\n",
       "      <td>4.0</td>\n",
       "      <td>2.0</td>\n",
       "      <td>5.0</td>\n",
       "    </tr>\n",
       "  </tbody>\n",
       "</table>\n",
       "<p>41687 rows × 83 columns</p>\n",
       "</div>"
      ],
      "text/plain": [
       "       TC001Q01NA  TC002Q01NA  TC186Q01HA  TC005Q01NA  TC007Q01NA  TC007Q02NA  \\\n",
       "0             1.0        40.0         1.0         1.0        10.0        10.0   \n",
       "1             2.0        26.0         1.0         1.0         5.0         5.0   \n",
       "2             2.0        38.0         1.0         1.0        11.0        16.0   \n",
       "3             1.0        42.0         1.0         1.0         2.0         3.0   \n",
       "4             1.0        30.0         1.0         1.0         5.0         5.0   \n",
       "...           ...         ...         ...         ...         ...         ...   \n",
       "41682         2.0        63.0         1.0         1.0        18.0        39.0   \n",
       "41683         1.0        49.0         1.0         2.0        14.0        14.0   \n",
       "41684         1.0        42.0         1.0         1.0         6.0        17.0   \n",
       "41685         2.0        25.0         1.0         1.0         1.0         1.0   \n",
       "41686         2.0        59.0         1.0         1.0        20.0        35.0   \n",
       "\n",
       "       TC188Q01HA  TC014Q01HA  TC015Q01NA  TC018Q01NA  ...  TC192Q01HA  \\\n",
       "0             1.0         2.0         1.0         1.0  ...         3.0   \n",
       "1             1.0         1.0         1.0         0.0  ...         2.0   \n",
       "2             1.0         2.0         1.0         0.0  ...         3.0   \n",
       "3             1.0         2.0         1.0         0.0  ...         2.0   \n",
       "4             1.0         1.0         1.0         0.0  ...         2.0   \n",
       "...           ...         ...         ...         ...  ...         ...   \n",
       "41682         2.0         2.0         1.0         0.0  ...         3.0   \n",
       "41683         1.0         1.0         1.0         1.0  ...         3.0   \n",
       "41684         1.0         1.0         1.0         0.0  ...         3.0   \n",
       "41685         1.0         1.0         1.0         0.0  ...         3.0   \n",
       "41686         1.0         1.0         1.0         0.0  ...         2.0   \n",
       "\n",
       "       TC192Q02HA  TC192Q05HA  TC176Q01HA  TC176Q02HA  TC176Q03HA  TC176Q06HA  \\\n",
       "0             3.0         3.0         4.0         3.0         4.0         3.0   \n",
       "1             2.0         2.0         4.0         4.0         4.0         4.0   \n",
       "2             3.0         3.0         4.0         5.0         5.0         4.0   \n",
       "3             2.0         3.0         2.0         3.0         4.0         2.0   \n",
       "4             3.0         3.0         5.0         5.0         5.0         4.0   \n",
       "...           ...         ...         ...         ...         ...         ...   \n",
       "41682         3.0         3.0         5.0         4.0         5.0         2.0   \n",
       "41683         2.0         2.0         5.0         5.0         5.0         3.0   \n",
       "41684         3.0         3.0         5.0         3.0         4.0         2.0   \n",
       "41685         3.0         3.0         5.0         4.0         4.0         3.0   \n",
       "41686         2.0         2.0         5.0         4.0         5.0         2.0   \n",
       "\n",
       "       TC176Q07HA  TC172Q01HA  TC173Q01HA  \n",
       "0             4.0         2.0         2.0  \n",
       "1             4.0         2.0         4.0  \n",
       "2             4.0         3.0         5.0  \n",
       "3             4.0         2.0         3.0  \n",
       "4             5.0         2.0         3.0  \n",
       "...           ...         ...         ...  \n",
       "41682         5.0         4.0         3.0  \n",
       "41683         4.0         2.0         2.0  \n",
       "41684         4.0         2.0         3.0  \n",
       "41685         4.0         1.0         3.0  \n",
       "41686         4.0         2.0         5.0  \n",
       "\n",
       "[41687 rows x 83 columns]"
      ]
     },
     "execution_count": 9,
     "metadata": {},
     "output_type": "execute_result"
    }
   ],
   "source": [
    "x"
   ]
  },
  {
   "cell_type": "code",
   "execution_count": 10,
   "metadata": {},
   "outputs": [
    {
     "data": {
      "text/plain": [
       "0        Baixa\n",
       "1        Baixa\n",
       "2        Baixa\n",
       "3        Baixa\n",
       "4        Baixa\n",
       "         ...  \n",
       "41682     Alta\n",
       "41683     Alta\n",
       "41684     Alta\n",
       "41685     Alta\n",
       "41686     Alta\n",
       "Name: nivelMatematica, Length: 41687, dtype: object"
      ]
     },
     "execution_count": 10,
     "metadata": {},
     "output_type": "execute_result"
    }
   ],
   "source": [
    "y"
   ]
  },
  {
   "cell_type": "markdown",
   "metadata": {},
   "source": [
    "##  Split do dataset  em treinamento e teste"
   ]
  },
  {
   "cell_type": "code",
   "execution_count": 11,
   "metadata": {},
   "outputs": [],
   "source": [
    "x_train, x_test, y_train, y_test = train_test_split(x,y, test_size=0.30)"
   ]
  },
  {
   "cell_type": "markdown",
   "metadata": {},
   "source": [
    "### Verificando o formato dos dados de treinamento e teste"
   ]
  },
  {
   "cell_type": "code",
   "execution_count": 12,
   "metadata": {},
   "outputs": [
    {
     "data": {
      "text/plain": [
       "((29180, 83), (12507, 83))"
      ]
     },
     "execution_count": 12,
     "metadata": {},
     "output_type": "execute_result"
    }
   ],
   "source": [
    "x_train.shape,x_test.shape"
   ]
  },
  {
   "cell_type": "code",
   "execution_count": 13,
   "metadata": {},
   "outputs": [
    {
     "data": {
      "text/plain": [
       "((29180,), (12507,))"
      ]
     },
     "execution_count": 13,
     "metadata": {},
     "output_type": "execute_result"
    }
   ],
   "source": [
    "y_train.shape,y_test.shape"
   ]
  },
  {
   "cell_type": "markdown",
   "metadata": {},
   "source": [
    "## Preparando o classificador  de árvore de decisão"
   ]
  },
  {
   "cell_type": "code",
   "execution_count": 14,
   "metadata": {},
   "outputs": [],
   "source": [
    "from sklearn.tree import DecisionTreeClassifier, export_graphviz\n"
   ]
  },
  {
   "cell_type": "markdown",
   "metadata": {},
   "source": []
  },
  {
   "cell_type": "code",
   "execution_count": 15,
   "metadata": {},
   "outputs": [
    {
     "data": {
      "text/plain": [
       "DecisionTreeClassifier()"
      ]
     },
     "execution_count": 15,
     "metadata": {},
     "output_type": "execute_result"
    }
   ],
   "source": [
    "dtree =  DecisionTreeClassifier()\n",
    "dtree.fit(x_train,y_train)"
   ]
  },
  {
   "cell_type": "code",
   "execution_count": 16,
   "metadata": {},
   "outputs": [],
   "source": [
    "pred =dtree.predict(x_test)"
   ]
  },
  {
   "cell_type": "code",
   "execution_count": 17,
   "metadata": {},
   "outputs": [
    {
     "data": {
      "text/plain": [
       "array([0.00335333, 0.02449479, 0.02014908, 0.01674523, 0.02708994,\n",
       "       0.01651558, 0.01137923, 0.0140875 , 0.00489067, 0.00798759,\n",
       "       0.00302511, 0.03628483, 0.00326384, 0.06608451, 0.00988371,\n",
       "       0.00518428, 0.00765944, 0.00570494, 0.01424982, 0.00434473,\n",
       "       0.01059346, 0.00376474, 0.0044751 , 0.00379803, 0.00535463,\n",
       "       0.01327153, 0.00464777, 0.00674048, 0.03510376, 0.00702198,\n",
       "       0.2155499 , 0.00364751, 0.00427448, 0.00300136, 0.00498284,\n",
       "       0.0067681 , 0.00953117, 0.00531692, 0.02518258, 0.00901406,\n",
       "       0.00562663, 0.00726847, 0.00620927, 0.00575531, 0.00571852,\n",
       "       0.00434062, 0.00337587, 0.00725492, 0.00608141, 0.00544649,\n",
       "       0.00465523, 0.00331565, 0.00696001, 0.00425107, 0.00395724,\n",
       "       0.00402668, 0.00716171, 0.00460255, 0.00593917, 0.00937489,\n",
       "       0.00395842, 0.00434978, 0.00869757, 0.00281978, 0.00543949,\n",
       "       0.00467522, 0.00860077, 0.04152565, 0.01088558, 0.00577157,\n",
       "       0.00708989, 0.0037613 , 0.00513101, 0.00314027, 0.00456989,\n",
       "       0.00948335, 0.03751656, 0.00625938, 0.00448298, 0.00740381,\n",
       "       0.0086993 , 0.00476961, 0.00522854])"
      ]
     },
     "execution_count": 17,
     "metadata": {},
     "output_type": "execute_result"
    }
   ],
   "source": [
    "dtree.feature_importances_"
   ]
  },
  {
   "cell_type": "markdown",
   "metadata": {},
   "source": [
    "## Avaliando o modelo"
   ]
  },
  {
   "cell_type": "code",
   "execution_count": 18,
   "metadata": {},
   "outputs": [
    {
     "name": "stdout",
     "output_type": "stream",
     "text": [
      "TC001Q01NA , 0.0033533301227025225\n",
      "TC002Q01NA , 0.02449478912137058\n",
      "TC186Q01HA , 0.020149081851635966\n",
      "TC005Q01NA , 0.01674523139710297\n",
      "TC007Q01NA , 0.027089941793183393\n",
      "TC007Q02NA , 0.016515579231026936\n",
      "TC188Q01HA , 0.011379234407384867\n",
      "TC014Q01HA , 0.014087502649307903\n",
      "TC015Q01NA , 0.00489067198787065\n",
      "TC018Q01NA , 0.007987586768051523\n",
      "TC018Q02NA , 0.0030251115410669257\n",
      "TC018Q04NA , 0.036284827653807965\n",
      "TC018Q05NA , 0.003263840711739667\n",
      "TC018Q10NA , 0.06608451480331157\n",
      "TC018Q11NA , 0.009883711068026345\n",
      "TC045Q09NA , 0.00518428172715698\n",
      "TC193Q01HA , 0.007659443555730651\n",
      "TC193Q02HA , 0.005704942756505626\n",
      "TC020Q01NA , 0.014249815445515287\n",
      "TC175Q01HA , 0.0043447327996040605\n",
      "TC198Q01HA , 0.010593463932687855\n",
      "TC198Q02HA , 0.0037647393581679484\n",
      "TC198Q03HA , 0.004475099111634166\n",
      "TC198Q06HA , 0.0037980307859050567\n",
      "TC198Q07HA , 0.005354625289576331\n",
      "TC198Q08HA , 0.01327152654613811\n",
      "TC198Q10HA , 0.004647766296509932\n",
      "TC199Q01HA , 0.006740481376281524\n",
      "TC199Q02HA , 0.03510376113930355\n",
      "TC199Q03HA , 0.007021976936015043\n",
      "TC199Q05HA , 0.21554989756719267\n",
      "TC199Q06HA , 0.003647511908982545\n",
      "TC199Q07HA , 0.004274483810779881\n",
      "TC199Q10HA , 0.0030013582239981885\n",
      "TC199Q12HA , 0.004982839199326577\n",
      "TC046Q04NA , 0.006768096226491098\n",
      "TC046Q05NA , 0.009531166527693292\n",
      "TC046Q06NA , 0.005316922441370566\n",
      "TC046Q07NA , 0.025182579621017605\n",
      "TC028Q01NA , 0.009014059056742359\n",
      "TC028Q02NA , 0.0056266307951510835\n",
      "TC028Q03NA , 0.007268465001440882\n",
      "TC028Q04NA , 0.006209273282620451\n",
      "TC028Q05NA , 0.0057553103844520575\n",
      "TC028Q06NA , 0.005718523871155627\n",
      "TC028Q07NA , 0.0043406216373311065\n",
      "TC028Q08NA , 0.003375874495942249\n",
      "TC152Q01HA , 0.0072549173357308\n",
      "TC152Q03HA , 0.006081413790466618\n",
      "TC152Q04HA , 0.005446492049908611\n",
      "TC155Q02HA , 0.0046552303129416255\n",
      "TC155Q03HA , 0.0033156523667602074\n",
      "TC155Q04HA , 0.006960006671080505\n",
      "TC155Q05HA , 0.004251070935993914\n",
      "TC155Q06HA , 0.003957244013636516\n",
      "TC155Q07HA , 0.004026680146832528\n",
      "TC164Q01HA , 0.007161707704233655\n",
      "TC169Q01HA , 0.004602549073861585\n",
      "TC169Q02HA , 0.005939169682628977\n",
      "TC169Q03HA , 0.009374887197740786\n",
      "TC169Q04HA , 0.003958415101689525\n",
      "TC169Q07HA , 0.0043497792102271185\n",
      "TC169Q09HA , 0.00869756677948828\n",
      "TC169Q10HA , 0.0028197786563458785\n",
      "TC169Q11HA , 0.005439493962196911\n",
      "TC169Q12HA , 0.004675221645638425\n",
      "TC054Q01NA , 0.008600765159444966\n",
      "TC054Q02NA , 0.04152565382145001\n",
      "TC054Q03NA , 0.010885579855337751\n",
      "TC054Q04NA , 0.0057715714084752906\n",
      "TC054Q05NA , 0.007089889513072328\n",
      "TC054Q06NA , 0.00376129746200356\n",
      "TC054Q07NA , 0.005131010323107578\n",
      "TC192Q01HA , 0.003140267219040667\n",
      "TC192Q02HA , 0.004569885922290278\n",
      "TC192Q05HA , 0.009483352177928669\n",
      "TC176Q01HA , 0.03751656194833543\n",
      "TC176Q02HA , 0.006259381413987585\n",
      "TC176Q03HA , 0.004482981815462846\n",
      "TC176Q06HA , 0.007403813923527573\n",
      "TC176Q07HA , 0.008699299675227671\n",
      "TC172Q01HA , 0.004769613652480763\n",
      "TC173Q01HA , 0.005228541855414302\n"
     ]
    }
   ],
   "source": [
    "for  feature, importancia in zip(professoresDF.columns,dtree.feature_importances_):\n",
    "    print(\"{} , {}\".format(feature,importancia))"
   ]
  },
  {
   "cell_type": "code",
   "execution_count": 19,
   "metadata": {},
   "outputs": [],
   "source": [
    "from sklearn.metrics import  classification_report, confusion_matrix"
   ]
  },
  {
   "cell_type": "code",
   "execution_count": 20,
   "metadata": {},
   "outputs": [
    {
     "name": "stdout",
     "output_type": "stream",
     "text": [
      "              precision    recall  f1-score   support\n",
      "\n",
      "        Alta       0.78      0.77      0.77      5587\n",
      "       Baixa       0.81      0.82      0.82      6920\n",
      "\n",
      "    accuracy                           0.80     12507\n",
      "   macro avg       0.79      0.79      0.79     12507\n",
      "weighted avg       0.80      0.80      0.80     12507\n",
      "\n"
     ]
    }
   ],
   "source": [
    "\n",
    "print(classification_report(y_test,pred))"
   ]
  },
  {
   "cell_type": "code",
   "execution_count": 21,
   "metadata": {},
   "outputs": [
    {
     "name": "stdout",
     "output_type": "stream",
     "text": [
      "[[4299 1288]\n",
      " [1248 5672]]\n"
     ]
    }
   ],
   "source": [
    "print(confusion_matrix(y_test,pred))"
   ]
  },
  {
   "cell_type": "markdown",
   "metadata": {},
   "source": [
    "## Matthews correlation coefficient (MCC)."
   ]
  },
  {
   "cell_type": "code",
   "execution_count": 22,
   "metadata": {},
   "outputs": [
    {
     "data": {
      "text/plain": [
       "0.5895368799959206"
      ]
     },
     "execution_count": 22,
     "metadata": {},
     "output_type": "execute_result"
    }
   ],
   "source": [
    "from sklearn.metrics import matthews_corrcoef\n",
    "matthews_corrcoef(y_test, pred)"
   ]
  }
 ],
 "metadata": {
  "kernelspec": {
   "display_name": "Python 3.7.3 64-bit",
   "language": "python",
   "name": "python3"
  },
  "language_info": {
   "codemirror_mode": {
    "name": "ipython",
    "version": 3
   },
   "file_extension": ".py",
   "mimetype": "text/x-python",
   "name": "python",
   "nbconvert_exporter": "python",
   "pygments_lexer": "ipython3",
   "version": "3.7.3"
  },
  "orig_nbformat": 4,
  "vscode": {
   "interpreter": {
    "hash": "916dbcbb3f70747c44a77c7bcd40155683ae19c65e1c03b4aa3499c5328201f1"
   }
  }
 },
 "nbformat": 4,
 "nbformat_minor": 2
}
