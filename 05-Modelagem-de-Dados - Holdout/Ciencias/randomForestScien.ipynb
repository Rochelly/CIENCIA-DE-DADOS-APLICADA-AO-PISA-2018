{
 "cells": [
  {
   "cell_type": "markdown",
   "metadata": {},
   "source": [
    "# Modelagem dataset professores  com  Floresta Aleátória"
   ]
  },
  {
   "cell_type": "markdown",
   "metadata": {},
   "source": [
    "## Importando as Bibliotecas Necessárias"
   ]
  },
  {
   "cell_type": "code",
   "execution_count": 4,
   "metadata": {},
   "outputs": [],
   "source": [
    "import pandas as pd\n",
    "import numpy as numpy\n",
    "import matplotlib.pyplot as pyplot\n",
    "import seaborn as sns\n",
    "%matplotlib inline"
   ]
  },
  {
   "cell_type": "markdown",
   "metadata": {},
   "source": [
    "## Carregando o dataset"
   ]
  },
  {
   "cell_type": "code",
   "execution_count": 5,
   "metadata": {},
   "outputs": [],
   "source": [
    "#Carregando o Datset\n",
    "pathTeach='00-Bases-de-dados/Professores-Otimizada-Niveis/pisa-professores.csv'\n",
    "professoresDF =  pd.read_csv(pathTeach)\n",
    "professoresDF = professoresDF.drop(['Unnamed: 0'],axis=1) # \n"
   ]
  },
  {
   "cell_type": "code",
   "execution_count": 6,
   "metadata": {},
   "outputs": [],
   "source": [
    "from  sklearn.model_selection  import train_test_split"
   ]
  },
  {
   "cell_type": "markdown",
   "metadata": {},
   "source": [
    "## Separando as variáveis x e y"
   ]
  },
  {
   "cell_type": "code",
   "execution_count": 7,
   "metadata": {},
   "outputs": [],
   "source": [
    "x = professoresDF.drop(['nivelMatematica','nivelCiencias'],axis=1) # \n",
    "y = professoresDF['nivelCiencias'] #  seleciona somente o que se quer prever \n",
    "\n"
   ]
  },
  {
   "cell_type": "code",
   "execution_count": 8,
   "metadata": {},
   "outputs": [],
   "source": [
    "#from imblearn.under_sampling import RandomUnderSampler, NearMiss, OneSidedSelection\n",
    "#nm = NearMiss(version=1)\n",
    "#x, y = nm.fit_resample(x, y)"
   ]
  },
  {
   "cell_type": "code",
   "execution_count": 9,
   "metadata": {},
   "outputs": [
    {
     "data": {
      "text/plain": [
       "0        Alta\n",
       "1        Alta\n",
       "2        Alta\n",
       "3        Alta\n",
       "4        Alta\n",
       "         ... \n",
       "41682    Alta\n",
       "41683    Alta\n",
       "41684    Alta\n",
       "41685    Alta\n",
       "41686    Alta\n",
       "Name: nivelCiencias, Length: 41687, dtype: object"
      ]
     },
     "execution_count": 9,
     "metadata": {},
     "output_type": "execute_result"
    }
   ],
   "source": [
    "y"
   ]
  },
  {
   "cell_type": "code",
   "execution_count": 10,
   "metadata": {},
   "outputs": [],
   "source": [
    "x_train, x_test, y_train, y_test = train_test_split(x,y, test_size=0.30)"
   ]
  },
  {
   "cell_type": "markdown",
   "metadata": {},
   "source": [
    "## Preparando o classificador  de RF"
   ]
  },
  {
   "cell_type": "code",
   "execution_count": 11,
   "metadata": {},
   "outputs": [],
   "source": [
    "from sklearn.ensemble import RandomForestClassifier\n"
   ]
  },
  {
   "cell_type": "code",
   "execution_count": 12,
   "metadata": {},
   "outputs": [],
   "source": [
    "rfc = RandomForestClassifier() "
   ]
  },
  {
   "cell_type": "code",
   "execution_count": 13,
   "metadata": {},
   "outputs": [
    {
     "data": {
      "text/plain": [
       "RandomForestClassifier()"
      ]
     },
     "execution_count": 13,
     "metadata": {},
     "output_type": "execute_result"
    }
   ],
   "source": [
    "rfc.fit(x_train,y_train)"
   ]
  },
  {
   "cell_type": "code",
   "execution_count": 14,
   "metadata": {},
   "outputs": [],
   "source": [
    "rfc_pred = rfc.predict(x_test)"
   ]
  },
  {
   "cell_type": "code",
   "execution_count": 15,
   "metadata": {},
   "outputs": [
    {
     "data": {
      "text/plain": [
       "array([0.00654957, 0.02201424, 0.02005129, 0.02130324, 0.02037096,\n",
       "       0.02114643, 0.03471847, 0.00958151, 0.00681689, 0.01600637,\n",
       "       0.00902863, 0.01170048, 0.00804826, 0.00952904, 0.00654022,\n",
       "       0.00889944, 0.01322884, 0.00730173, 0.04507989, 0.0073655 ,\n",
       "       0.01271254, 0.00674707, 0.00803258, 0.00782779, 0.00668531,\n",
       "       0.02629378, 0.00730231, 0.01012812, 0.02127335, 0.01463898,\n",
       "       0.01455186, 0.00736329, 0.00948195, 0.01051746, 0.00679297,\n",
       "       0.01601908, 0.00976599, 0.01145286, 0.02099906, 0.01389787,\n",
       "       0.00984693, 0.00922986, 0.00752298, 0.01179724, 0.0107449 ,\n",
       "       0.00790429, 0.00779609, 0.0089717 , 0.00689235, 0.00731808,\n",
       "       0.00707898, 0.00721882, 0.00757663, 0.007998  , 0.00812962,\n",
       "       0.00845676, 0.00935316, 0.00705482, 0.00967651, 0.0257566 ,\n",
       "       0.01463348, 0.00682176, 0.01186558, 0.00898151, 0.02158829,\n",
       "       0.00851225, 0.01330403, 0.01314418, 0.01034393, 0.00745289,\n",
       "       0.00787571, 0.00704784, 0.00701101, 0.00862812, 0.00743238,\n",
       "       0.01192435, 0.04502856, 0.0095081 , 0.00805777, 0.00990009,\n",
       "       0.01186938, 0.00727312, 0.00770615])"
      ]
     },
     "execution_count": 15,
     "metadata": {},
     "output_type": "execute_result"
    }
   ],
   "source": [
    "rfc.feature_importances_"
   ]
  },
  {
   "cell_type": "code",
   "execution_count": 16,
   "metadata": {},
   "outputs": [
    {
     "name": "stdout",
     "output_type": "stream",
     "text": [
      "TC001Q01NA , 0.006549573530386769\n",
      "TC002Q01NA , 0.022014244500918663\n",
      "TC186Q01HA , 0.020051285565922967\n",
      "TC005Q01NA , 0.021303235471819136\n",
      "TC007Q01NA , 0.02037095810317913\n",
      "TC007Q02NA , 0.021146427350483332\n",
      "TC188Q01HA , 0.03471847383749854\n",
      "TC014Q01HA , 0.009581509739457525\n",
      "TC015Q01NA , 0.006816887699745195\n",
      "TC018Q01NA , 0.016006368037535464\n",
      "TC018Q02NA , 0.009028629968679328\n",
      "TC018Q04NA , 0.011700483707345671\n",
      "TC018Q05NA , 0.008048262621010275\n",
      "TC018Q10NA , 0.009529039115495078\n",
      "TC018Q11NA , 0.006540218771753774\n",
      "TC045Q09NA , 0.008899436685177658\n",
      "TC193Q01HA , 0.013228839687939621\n",
      "TC193Q02HA , 0.0073017278152625875\n",
      "TC020Q01NA , 0.045079889670919505\n",
      "TC175Q01HA , 0.007365503642344757\n",
      "TC198Q01HA , 0.012712541823384618\n",
      "TC198Q02HA , 0.006747070400385267\n",
      "TC198Q03HA , 0.00803258236008305\n",
      "TC198Q06HA , 0.007827786602776724\n",
      "TC198Q07HA , 0.00668530754363441\n",
      "TC198Q08HA , 0.026293776562410498\n",
      "TC198Q10HA , 0.00730231002399565\n",
      "TC199Q01HA , 0.010128118647121152\n",
      "TC199Q02HA , 0.021273353082411725\n",
      "TC199Q03HA , 0.01463897971661068\n",
      "TC199Q05HA , 0.01455185548216194\n",
      "TC199Q06HA , 0.007363289694122702\n",
      "TC199Q07HA , 0.009481947398250033\n",
      "TC199Q10HA , 0.01051746421523682\n",
      "TC199Q12HA , 0.006792969241097564\n",
      "TC046Q04NA , 0.016019078659258234\n",
      "TC046Q05NA , 0.009765986127346386\n",
      "TC046Q06NA , 0.011452860172415306\n",
      "TC046Q07NA , 0.020999059538173624\n",
      "TC028Q01NA , 0.013897869846344056\n",
      "TC028Q02NA , 0.009846929760396757\n",
      "TC028Q03NA , 0.009229864669565524\n",
      "TC028Q04NA , 0.0075229778581156126\n",
      "TC028Q05NA , 0.011797235284386991\n",
      "TC028Q06NA , 0.010744898447092336\n",
      "TC028Q07NA , 0.00790429258520116\n",
      "TC028Q08NA , 0.007796094303116875\n",
      "TC152Q01HA , 0.008971702489049518\n",
      "TC152Q03HA , 0.006892345950923502\n",
      "TC152Q04HA , 0.007318083480167808\n",
      "TC155Q02HA , 0.007078976629213597\n",
      "TC155Q03HA , 0.007218821841338724\n",
      "TC155Q04HA , 0.00757663109222181\n",
      "TC155Q05HA , 0.007998001304962445\n",
      "TC155Q06HA , 0.008129617029419244\n",
      "TC155Q07HA , 0.00845676088875184\n",
      "TC164Q01HA , 0.00935316313581888\n",
      "TC169Q01HA , 0.007054818999403014\n",
      "TC169Q02HA , 0.00967651042584738\n",
      "TC169Q03HA , 0.02575660231268941\n",
      "TC169Q04HA , 0.01463348249203662\n",
      "TC169Q07HA , 0.006821758488178434\n",
      "TC169Q09HA , 0.01186558450413244\n",
      "TC169Q10HA , 0.008981511551669853\n",
      "TC169Q11HA , 0.021588292581794035\n",
      "TC169Q12HA , 0.008512252822785287\n",
      "TC054Q01NA , 0.013304027332413825\n",
      "TC054Q02NA , 0.013144176358278201\n",
      "TC054Q03NA , 0.010343930648372952\n",
      "TC054Q04NA , 0.007452892324404921\n",
      "TC054Q05NA , 0.007875714706426538\n",
      "TC054Q06NA , 0.007047840758930064\n",
      "TC054Q07NA , 0.007011005732574669\n",
      "TC192Q01HA , 0.008628116066995513\n",
      "TC192Q02HA , 0.007432381034735614\n",
      "TC192Q05HA , 0.011924345415225199\n",
      "TC176Q01HA , 0.04502855687877643\n",
      "TC176Q02HA , 0.009508100789893132\n",
      "TC176Q03HA , 0.008057774824324404\n",
      "TC176Q06HA , 0.009900085694604615\n",
      "TC176Q07HA , 0.01186937568484341\n",
      "TC172Q01HA , 0.007273116618503741\n",
      "TC173Q01HA , 0.007706145542322278\n"
     ]
    }
   ],
   "source": [
    "for  feature, importancia in zip(professoresDF.columns,rfc.feature_importances_):\n",
    "    print(\"{} , {}\".format(feature,importancia))"
   ]
  },
  {
   "cell_type": "markdown",
   "metadata": {},
   "source": [
    "## Avaliando o modelo"
   ]
  },
  {
   "cell_type": "code",
   "execution_count": 17,
   "metadata": {},
   "outputs": [],
   "source": [
    "from sklearn.metrics import  classification_report, confusion_matrix"
   ]
  },
  {
   "cell_type": "code",
   "execution_count": 18,
   "metadata": {},
   "outputs": [
    {
     "name": "stdout",
     "output_type": "stream",
     "text": [
      "              precision    recall  f1-score   support\n",
      "\n",
      "        Alta       0.89      0.97      0.93      9062\n",
      "       Baixa       0.89      0.67      0.77      3445\n",
      "\n",
      "    accuracy                           0.89     12507\n",
      "   macro avg       0.89      0.82      0.85     12507\n",
      "weighted avg       0.89      0.89      0.88     12507\n",
      "\n"
     ]
    }
   ],
   "source": [
    "print(classification_report(y_test,rfc_pred))"
   ]
  },
  {
   "cell_type": "code",
   "execution_count": 19,
   "metadata": {},
   "outputs": [
    {
     "name": "stdout",
     "output_type": "stream",
     "text": [
      "[[8788  274]\n",
      " [1125 2320]]\n"
     ]
    }
   ],
   "source": [
    "print(confusion_matrix(y_test,rfc_pred))"
   ]
  },
  {
   "cell_type": "markdown",
   "metadata": {},
   "source": [
    "## Matthews correlation coefficient (MCC)."
   ]
  },
  {
   "cell_type": "code",
   "execution_count": 20,
   "metadata": {},
   "outputs": [
    {
     "data": {
      "text/plain": [
       "0.7087084010362233"
      ]
     },
     "execution_count": 20,
     "metadata": {},
     "output_type": "execute_result"
    }
   ],
   "source": [
    "from sklearn.metrics import matthews_corrcoef\n",
    "matthews_corrcoef(y_test, rfc_pred)"
   ]
  }
 ],
 "metadata": {
  "kernelspec": {
   "display_name": "Python 3.7.3 64-bit",
   "language": "python",
   "name": "python3"
  },
  "language_info": {
   "codemirror_mode": {
    "name": "ipython",
    "version": 3
   },
   "file_extension": ".py",
   "mimetype": "text/x-python",
   "name": "python",
   "nbconvert_exporter": "python",
   "pygments_lexer": "ipython3",
   "version": "3.7.3"
  },
  "orig_nbformat": 4,
  "vscode": {
   "interpreter": {
    "hash": "916dbcbb3f70747c44a77c7bcd40155683ae19c65e1c03b4aa3499c5328201f1"
   }
  }
 },
 "nbformat": 4,
 "nbformat_minor": 2
}
