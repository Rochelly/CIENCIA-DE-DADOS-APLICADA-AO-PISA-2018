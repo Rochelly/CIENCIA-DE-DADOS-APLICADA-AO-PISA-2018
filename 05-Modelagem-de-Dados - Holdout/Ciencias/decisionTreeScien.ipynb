{
 "cells": [
  {
   "cell_type": "markdown",
   "metadata": {},
   "source": [
    "# Modelagem dataset professores  com  árvore de decisão"
   ]
  },
  {
   "cell_type": "markdown",
   "metadata": {},
   "source": [
    "## Importando as Bibliotecas Necessárias"
   ]
  },
  {
   "cell_type": "code",
   "execution_count": 1,
   "metadata": {},
   "outputs": [],
   "source": [
    "import pandas as pd\n",
    "import numpy as numpy\n",
    "import matplotlib.pyplot as pyplot\n",
    "import seaborn as sns\n",
    "%matplotlib inline"
   ]
  },
  {
   "cell_type": "markdown",
   "metadata": {},
   "source": [
    "## Carregando o dataset"
   ]
  },
  {
   "cell_type": "code",
   "execution_count": 2,
   "metadata": {},
   "outputs": [],
   "source": [
    "#Carregando o Datset\n",
    "pathTeach='00-Bases-de-dados/Professores-Otimizada-Niveis/pisa-professores.csv'\n",
    "professoresDF =  pd.read_csv(pathTeach)\n",
    "professoresDF = professoresDF.drop(['Unnamed: 0'],axis=1) # \n"
   ]
  },
  {
   "cell_type": "markdown",
   "metadata": {},
   "source": []
  },
  {
   "cell_type": "code",
   "execution_count": 3,
   "metadata": {},
   "outputs": [
    {
     "data": {
      "text/html": [
       "<div>\n",
       "<style scoped>\n",
       "    .dataframe tbody tr th:only-of-type {\n",
       "        vertical-align: middle;\n",
       "    }\n",
       "\n",
       "    .dataframe tbody tr th {\n",
       "        vertical-align: top;\n",
       "    }\n",
       "\n",
       "    .dataframe thead th {\n",
       "        text-align: right;\n",
       "    }\n",
       "</style>\n",
       "<table border=\"1\" class=\"dataframe\">\n",
       "  <thead>\n",
       "    <tr style=\"text-align: right;\">\n",
       "      <th></th>\n",
       "      <th>TC001Q01NA</th>\n",
       "      <th>TC002Q01NA</th>\n",
       "      <th>TC186Q01HA</th>\n",
       "      <th>TC005Q01NA</th>\n",
       "      <th>TC007Q01NA</th>\n",
       "      <th>TC007Q02NA</th>\n",
       "      <th>TC188Q01HA</th>\n",
       "      <th>TC014Q01HA</th>\n",
       "      <th>TC015Q01NA</th>\n",
       "      <th>TC018Q01NA</th>\n",
       "      <th>...</th>\n",
       "      <th>TC192Q01HA</th>\n",
       "      <th>TC192Q02HA</th>\n",
       "      <th>TC192Q05HA</th>\n",
       "      <th>TC176Q01HA</th>\n",
       "      <th>TC176Q02HA</th>\n",
       "      <th>TC176Q03HA</th>\n",
       "      <th>TC176Q06HA</th>\n",
       "      <th>TC176Q07HA</th>\n",
       "      <th>TC172Q01HA</th>\n",
       "      <th>TC173Q01HA</th>\n",
       "    </tr>\n",
       "  </thead>\n",
       "  <tbody>\n",
       "    <tr>\n",
       "      <th>count</th>\n",
       "      <td>41687.000000</td>\n",
       "      <td>41687.000000</td>\n",
       "      <td>41687.000000</td>\n",
       "      <td>41687.00000</td>\n",
       "      <td>41687.000000</td>\n",
       "      <td>41687.000000</td>\n",
       "      <td>41687.000000</td>\n",
       "      <td>41687.000000</td>\n",
       "      <td>41687.000000</td>\n",
       "      <td>41687.000000</td>\n",
       "      <td>...</td>\n",
       "      <td>41687.00000</td>\n",
       "      <td>41687.000000</td>\n",
       "      <td>41687.000000</td>\n",
       "      <td>41687.000000</td>\n",
       "      <td>41687.000000</td>\n",
       "      <td>41687.000000</td>\n",
       "      <td>41687.000000</td>\n",
       "      <td>41687.000000</td>\n",
       "      <td>41687.000000</td>\n",
       "      <td>41687.000000</td>\n",
       "    </tr>\n",
       "    <tr>\n",
       "      <th>mean</th>\n",
       "      <td>1.436083</td>\n",
       "      <td>42.610982</td>\n",
       "      <td>1.129153</td>\n",
       "      <td>1.29081</td>\n",
       "      <td>9.055989</td>\n",
       "      <td>15.797803</td>\n",
       "      <td>1.582916</td>\n",
       "      <td>1.800537</td>\n",
       "      <td>1.447310</td>\n",
       "      <td>0.395567</td>\n",
       "      <td>...</td>\n",
       "      <td>2.90539</td>\n",
       "      <td>2.947154</td>\n",
       "      <td>3.137981</td>\n",
       "      <td>4.192050</td>\n",
       "      <td>4.286516</td>\n",
       "      <td>4.293929</td>\n",
       "      <td>2.942884</td>\n",
       "      <td>3.997865</td>\n",
       "      <td>2.826996</td>\n",
       "      <td>3.454578</td>\n",
       "    </tr>\n",
       "    <tr>\n",
       "      <th>std</th>\n",
       "      <td>0.495904</td>\n",
       "      <td>9.917561</td>\n",
       "      <td>0.335373</td>\n",
       "      <td>0.73051</td>\n",
       "      <td>8.354290</td>\n",
       "      <td>9.721441</td>\n",
       "      <td>1.109501</td>\n",
       "      <td>0.629758</td>\n",
       "      <td>1.061059</td>\n",
       "      <td>0.488978</td>\n",
       "      <td>...</td>\n",
       "      <td>0.75679</td>\n",
       "      <td>0.763193</td>\n",
       "      <td>0.741248</td>\n",
       "      <td>0.961431</td>\n",
       "      <td>1.066582</td>\n",
       "      <td>0.889407</td>\n",
       "      <td>1.119380</td>\n",
       "      <td>0.918980</td>\n",
       "      <td>0.916123</td>\n",
       "      <td>1.112767</td>\n",
       "    </tr>\n",
       "    <tr>\n",
       "      <th>min</th>\n",
       "      <td>1.000000</td>\n",
       "      <td>20.000000</td>\n",
       "      <td>1.000000</td>\n",
       "      <td>1.00000</td>\n",
       "      <td>0.000000</td>\n",
       "      <td>0.000000</td>\n",
       "      <td>1.000000</td>\n",
       "      <td>1.000000</td>\n",
       "      <td>1.000000</td>\n",
       "      <td>0.000000</td>\n",
       "      <td>...</td>\n",
       "      <td>1.00000</td>\n",
       "      <td>1.000000</td>\n",
       "      <td>1.000000</td>\n",
       "      <td>1.000000</td>\n",
       "      <td>1.000000</td>\n",
       "      <td>1.000000</td>\n",
       "      <td>1.000000</td>\n",
       "      <td>1.000000</td>\n",
       "      <td>1.000000</td>\n",
       "      <td>1.000000</td>\n",
       "    </tr>\n",
       "    <tr>\n",
       "      <th>25%</th>\n",
       "      <td>1.000000</td>\n",
       "      <td>35.000000</td>\n",
       "      <td>1.000000</td>\n",
       "      <td>1.00000</td>\n",
       "      <td>2.000000</td>\n",
       "      <td>8.000000</td>\n",
       "      <td>1.000000</td>\n",
       "      <td>1.000000</td>\n",
       "      <td>1.000000</td>\n",
       "      <td>0.000000</td>\n",
       "      <td>...</td>\n",
       "      <td>2.00000</td>\n",
       "      <td>2.000000</td>\n",
       "      <td>3.000000</td>\n",
       "      <td>4.000000</td>\n",
       "      <td>4.000000</td>\n",
       "      <td>4.000000</td>\n",
       "      <td>2.000000</td>\n",
       "      <td>3.000000</td>\n",
       "      <td>2.000000</td>\n",
       "      <td>3.000000</td>\n",
       "    </tr>\n",
       "    <tr>\n",
       "      <th>50%</th>\n",
       "      <td>1.000000</td>\n",
       "      <td>42.000000</td>\n",
       "      <td>1.000000</td>\n",
       "      <td>1.00000</td>\n",
       "      <td>6.000000</td>\n",
       "      <td>15.000000</td>\n",
       "      <td>1.000000</td>\n",
       "      <td>2.000000</td>\n",
       "      <td>1.000000</td>\n",
       "      <td>0.000000</td>\n",
       "      <td>...</td>\n",
       "      <td>3.00000</td>\n",
       "      <td>3.000000</td>\n",
       "      <td>3.000000</td>\n",
       "      <td>4.000000</td>\n",
       "      <td>5.000000</td>\n",
       "      <td>5.000000</td>\n",
       "      <td>3.000000</td>\n",
       "      <td>4.000000</td>\n",
       "      <td>3.000000</td>\n",
       "      <td>3.000000</td>\n",
       "    </tr>\n",
       "    <tr>\n",
       "      <th>75%</th>\n",
       "      <td>2.000000</td>\n",
       "      <td>50.000000</td>\n",
       "      <td>1.000000</td>\n",
       "      <td>1.00000</td>\n",
       "      <td>14.000000</td>\n",
       "      <td>23.000000</td>\n",
       "      <td>1.000000</td>\n",
       "      <td>2.000000</td>\n",
       "      <td>1.000000</td>\n",
       "      <td>1.000000</td>\n",
       "      <td>...</td>\n",
       "      <td>3.00000</td>\n",
       "      <td>4.000000</td>\n",
       "      <td>4.000000</td>\n",
       "      <td>5.000000</td>\n",
       "      <td>5.000000</td>\n",
       "      <td>5.000000</td>\n",
       "      <td>4.000000</td>\n",
       "      <td>5.000000</td>\n",
       "      <td>4.000000</td>\n",
       "      <td>5.000000</td>\n",
       "    </tr>\n",
       "    <tr>\n",
       "      <th>max</th>\n",
       "      <td>2.000000</td>\n",
       "      <td>70.000000</td>\n",
       "      <td>2.000000</td>\n",
       "      <td>4.00000</td>\n",
       "      <td>50.000000</td>\n",
       "      <td>50.000000</td>\n",
       "      <td>4.000000</td>\n",
       "      <td>3.000000</td>\n",
       "      <td>5.000000</td>\n",
       "      <td>1.000000</td>\n",
       "      <td>...</td>\n",
       "      <td>4.00000</td>\n",
       "      <td>4.000000</td>\n",
       "      <td>4.000000</td>\n",
       "      <td>5.000000</td>\n",
       "      <td>5.000000</td>\n",
       "      <td>5.000000</td>\n",
       "      <td>5.000000</td>\n",
       "      <td>5.000000</td>\n",
       "      <td>4.000000</td>\n",
       "      <td>5.000000</td>\n",
       "    </tr>\n",
       "  </tbody>\n",
       "</table>\n",
       "<p>8 rows × 83 columns</p>\n",
       "</div>"
      ],
      "text/plain": [
       "         TC001Q01NA    TC002Q01NA    TC186Q01HA   TC005Q01NA    TC007Q01NA  \\\n",
       "count  41687.000000  41687.000000  41687.000000  41687.00000  41687.000000   \n",
       "mean       1.436083     42.610982      1.129153      1.29081      9.055989   \n",
       "std        0.495904      9.917561      0.335373      0.73051      8.354290   \n",
       "min        1.000000     20.000000      1.000000      1.00000      0.000000   \n",
       "25%        1.000000     35.000000      1.000000      1.00000      2.000000   \n",
       "50%        1.000000     42.000000      1.000000      1.00000      6.000000   \n",
       "75%        2.000000     50.000000      1.000000      1.00000     14.000000   \n",
       "max        2.000000     70.000000      2.000000      4.00000     50.000000   \n",
       "\n",
       "         TC007Q02NA    TC188Q01HA    TC014Q01HA    TC015Q01NA    TC018Q01NA  \\\n",
       "count  41687.000000  41687.000000  41687.000000  41687.000000  41687.000000   \n",
       "mean      15.797803      1.582916      1.800537      1.447310      0.395567   \n",
       "std        9.721441      1.109501      0.629758      1.061059      0.488978   \n",
       "min        0.000000      1.000000      1.000000      1.000000      0.000000   \n",
       "25%        8.000000      1.000000      1.000000      1.000000      0.000000   \n",
       "50%       15.000000      1.000000      2.000000      1.000000      0.000000   \n",
       "75%       23.000000      1.000000      2.000000      1.000000      1.000000   \n",
       "max       50.000000      4.000000      3.000000      5.000000      1.000000   \n",
       "\n",
       "       ...   TC192Q01HA    TC192Q02HA    TC192Q05HA    TC176Q01HA  \\\n",
       "count  ...  41687.00000  41687.000000  41687.000000  41687.000000   \n",
       "mean   ...      2.90539      2.947154      3.137981      4.192050   \n",
       "std    ...      0.75679      0.763193      0.741248      0.961431   \n",
       "min    ...      1.00000      1.000000      1.000000      1.000000   \n",
       "25%    ...      2.00000      2.000000      3.000000      4.000000   \n",
       "50%    ...      3.00000      3.000000      3.000000      4.000000   \n",
       "75%    ...      3.00000      4.000000      4.000000      5.000000   \n",
       "max    ...      4.00000      4.000000      4.000000      5.000000   \n",
       "\n",
       "         TC176Q02HA    TC176Q03HA    TC176Q06HA    TC176Q07HA    TC172Q01HA  \\\n",
       "count  41687.000000  41687.000000  41687.000000  41687.000000  41687.000000   \n",
       "mean       4.286516      4.293929      2.942884      3.997865      2.826996   \n",
       "std        1.066582      0.889407      1.119380      0.918980      0.916123   \n",
       "min        1.000000      1.000000      1.000000      1.000000      1.000000   \n",
       "25%        4.000000      4.000000      2.000000      3.000000      2.000000   \n",
       "50%        5.000000      5.000000      3.000000      4.000000      3.000000   \n",
       "75%        5.000000      5.000000      4.000000      5.000000      4.000000   \n",
       "max        5.000000      5.000000      5.000000      5.000000      4.000000   \n",
       "\n",
       "         TC173Q01HA  \n",
       "count  41687.000000  \n",
       "mean       3.454578  \n",
       "std        1.112767  \n",
       "min        1.000000  \n",
       "25%        3.000000  \n",
       "50%        3.000000  \n",
       "75%        5.000000  \n",
       "max        5.000000  \n",
       "\n",
       "[8 rows x 83 columns]"
      ]
     },
     "execution_count": 3,
     "metadata": {},
     "output_type": "execute_result"
    }
   ],
   "source": [
    "professoresDF.describe()"
   ]
  },
  {
   "cell_type": "markdown",
   "metadata": {},
   "source": [
    "## Verificando o Balanceamento das classes"
   ]
  },
  {
   "cell_type": "code",
   "execution_count": 4,
   "metadata": {},
   "outputs": [
    {
     "name": "stdout",
     "output_type": "stream",
     "text": [
      "Alta     30339\n",
      "Baixa    11348\n",
      "Name: nivelCiencias, dtype: int64\n"
     ]
    },
    {
     "name": "stderr",
     "output_type": "stream",
     "text": [
      "/home/rochelly/.local/lib/python3.7/site-packages/seaborn/_decorators.py:43: FutureWarning: Pass the following variable as a keyword arg: x. From version 0.12, the only valid positional argument will be `data`, and passing other arguments without an explicit keyword will result in an error or misinterpretation.\n",
      "  FutureWarning\n"
     ]
    },
    {
     "data": {
      "text/plain": [
       "[Text(0.5, 0, 'Classes de Desempenho'), Text(0, 0.5, 'Quantidade')]"
      ]
     },
     "execution_count": 4,
     "metadata": {},
     "output_type": "execute_result"
    },
    {
     "data": {
      "image/png": "[encoded data removed]",
      "text/plain": [
       "<Figure size 432x288 with 1 Axes>"
      ]
     },
     "metadata": {
      "needs_background": "light"
     },
     "output_type": "display_data"
    }
   ],
   "source": [
    "# ver o balanceamento das classes\n",
    "print(professoresDF.nivelCiencias.value_counts())\n",
    "#print(\"\\nFraudes representam {:.4f}% do dataset.\\n\".format((professoresDF[professoresDF.nivelMatematica == 1].shape[0] / professoresDF.shape[0]) * 100))\n",
    "\n",
    "\n",
    "#plt.figure(figsize=(10,5))\n",
    "sns.set_context(\"paper\",font_scale=1.2)\n",
    "plot = sns.countplot('nivelCiencias', data=professoresDF);\n",
    "sns.color_palette(\"tab10\")\n",
    "pyplot.xticks(\n",
    "   #rotation=45, \n",
    "   horizontalalignment='right',\n",
    "   fontweight='light',\n",
    "   #fontsize='x-large'  \n",
    ")\n",
    "#pyplot.legend(loc='upper right')\n",
    "plot.set(xlabel='Classes de Desempenho',ylabel='Quantidade')\n",
    "#leg = plot.get_legend()"
   ]
  },
  {
   "cell_type": "code",
   "execution_count": null,
   "metadata": {},
   "outputs": [],
   "source": [
    "\n"
   ]
  },
  {
   "cell_type": "markdown",
   "metadata": {},
   "source": [
    "## Separando as variáveis x e y"
   ]
  },
  {
   "cell_type": "code",
   "execution_count": 5,
   "metadata": {},
   "outputs": [],
   "source": [
    "from  sklearn.model_selection  import train_test_split"
   ]
  },
  {
   "cell_type": "code",
   "execution_count": 6,
   "metadata": {},
   "outputs": [],
   "source": [
    "x = professoresDF.drop(['nivelMatematica','nivelCiencias'],axis=1) # \n",
    "y = professoresDF['nivelCiencias'] #  seleciona somente o que se quer prever \n",
    "\n"
   ]
  },
  {
   "cell_type": "markdown",
   "metadata": {},
   "source": [
    "## Aplicando o balanceamento das classes"
   ]
  },
  {
   "cell_type": "code",
   "execution_count": null,
   "metadata": {},
   "outputs": [],
   "source": []
  },
  {
   "cell_type": "code",
   "execution_count": 7,
   "metadata": {},
   "outputs": [],
   "source": [
    "#from imblearn.under_sampling import RandomUnderSampler, NearMiss, OneSidedSelection\n",
    "#nm = NearMiss(version=1)\n",
    "#x, y = nm.fit_resample(x, y)"
   ]
  },
  {
   "cell_type": "code",
   "execution_count": 8,
   "metadata": {},
   "outputs": [
    {
     "name": "stdout",
     "output_type": "stream",
     "text": [
      "Alta     30339\n",
      "Baixa    11348\n",
      "Name: nivelCiencias, dtype: int64\n"
     ]
    }
   ],
   "source": [
    "df=pd.DataFrame(y)\n",
    "print(df.nivelCiencias.value_counts())"
   ]
  },
  {
   "cell_type": "code",
   "execution_count": 9,
   "metadata": {},
   "outputs": [
    {
     "data": {
      "text/html": [
       "<div>\n",
       "<style scoped>\n",
       "    .dataframe tbody tr th:only-of-type {\n",
       "        vertical-align: middle;\n",
       "    }\n",
       "\n",
       "    .dataframe tbody tr th {\n",
       "        vertical-align: top;\n",
       "    }\n",
       "\n",
       "    .dataframe thead th {\n",
       "        text-align: right;\n",
       "    }\n",
       "</style>\n",
       "<table border=\"1\" class=\"dataframe\">\n",
       "  <thead>\n",
       "    <tr style=\"text-align: right;\">\n",
       "      <th></th>\n",
       "      <th>TC001Q01NA</th>\n",
       "      <th>TC002Q01NA</th>\n",
       "      <th>TC186Q01HA</th>\n",
       "      <th>TC005Q01NA</th>\n",
       "      <th>TC007Q01NA</th>\n",
       "      <th>TC007Q02NA</th>\n",
       "      <th>TC188Q01HA</th>\n",
       "      <th>TC014Q01HA</th>\n",
       "      <th>TC015Q01NA</th>\n",
       "      <th>TC018Q01NA</th>\n",
       "      <th>...</th>\n",
       "      <th>TC192Q01HA</th>\n",
       "      <th>TC192Q02HA</th>\n",
       "      <th>TC192Q05HA</th>\n",
       "      <th>TC176Q01HA</th>\n",
       "      <th>TC176Q02HA</th>\n",
       "      <th>TC176Q03HA</th>\n",
       "      <th>TC176Q06HA</th>\n",
       "      <th>TC176Q07HA</th>\n",
       "      <th>TC172Q01HA</th>\n",
       "      <th>TC173Q01HA</th>\n",
       "    </tr>\n",
       "  </thead>\n",
       "  <tbody>\n",
       "    <tr>\n",
       "      <th>0</th>\n",
       "      <td>1.0</td>\n",
       "      <td>40.0</td>\n",
       "      <td>1.0</td>\n",
       "      <td>1.0</td>\n",
       "      <td>10.0</td>\n",
       "      <td>10.0</td>\n",
       "      <td>1.0</td>\n",
       "      <td>2.0</td>\n",
       "      <td>1.0</td>\n",
       "      <td>1.0</td>\n",
       "      <td>...</td>\n",
       "      <td>3.0</td>\n",
       "      <td>3.0</td>\n",
       "      <td>3.0</td>\n",
       "      <td>4.0</td>\n",
       "      <td>3.0</td>\n",
       "      <td>4.0</td>\n",
       "      <td>3.0</td>\n",
       "      <td>4.0</td>\n",
       "      <td>2.0</td>\n",
       "      <td>2.0</td>\n",
       "    </tr>\n",
       "    <tr>\n",
       "      <th>1</th>\n",
       "      <td>2.0</td>\n",
       "      <td>26.0</td>\n",
       "      <td>1.0</td>\n",
       "      <td>1.0</td>\n",
       "      <td>5.0</td>\n",
       "      <td>5.0</td>\n",
       "      <td>1.0</td>\n",
       "      <td>1.0</td>\n",
       "      <td>1.0</td>\n",
       "      <td>0.0</td>\n",
       "      <td>...</td>\n",
       "      <td>2.0</td>\n",
       "      <td>2.0</td>\n",
       "      <td>2.0</td>\n",
       "      <td>4.0</td>\n",
       "      <td>4.0</td>\n",
       "      <td>4.0</td>\n",
       "      <td>4.0</td>\n",
       "      <td>4.0</td>\n",
       "      <td>2.0</td>\n",
       "      <td>4.0</td>\n",
       "    </tr>\n",
       "    <tr>\n",
       "      <th>2</th>\n",
       "      <td>2.0</td>\n",
       "      <td>38.0</td>\n",
       "      <td>1.0</td>\n",
       "      <td>1.0</td>\n",
       "      <td>11.0</td>\n",
       "      <td>16.0</td>\n",
       "      <td>1.0</td>\n",
       "      <td>2.0</td>\n",
       "      <td>1.0</td>\n",
       "      <td>0.0</td>\n",
       "      <td>...</td>\n",
       "      <td>3.0</td>\n",
       "      <td>3.0</td>\n",
       "      <td>3.0</td>\n",
       "      <td>4.0</td>\n",
       "      <td>5.0</td>\n",
       "      <td>5.0</td>\n",
       "      <td>4.0</td>\n",
       "      <td>4.0</td>\n",
       "      <td>3.0</td>\n",
       "      <td>5.0</td>\n",
       "    </tr>\n",
       "    <tr>\n",
       "      <th>3</th>\n",
       "      <td>1.0</td>\n",
       "      <td>42.0</td>\n",
       "      <td>1.0</td>\n",
       "      <td>1.0</td>\n",
       "      <td>2.0</td>\n",
       "      <td>3.0</td>\n",
       "      <td>1.0</td>\n",
       "      <td>2.0</td>\n",
       "      <td>1.0</td>\n",
       "      <td>0.0</td>\n",
       "      <td>...</td>\n",
       "      <td>2.0</td>\n",
       "      <td>2.0</td>\n",
       "      <td>3.0</td>\n",
       "      <td>2.0</td>\n",
       "      <td>3.0</td>\n",
       "      <td>4.0</td>\n",
       "      <td>2.0</td>\n",
       "      <td>4.0</td>\n",
       "      <td>2.0</td>\n",
       "      <td>3.0</td>\n",
       "    </tr>\n",
       "    <tr>\n",
       "      <th>4</th>\n",
       "      <td>1.0</td>\n",
       "      <td>30.0</td>\n",
       "      <td>1.0</td>\n",
       "      <td>1.0</td>\n",
       "      <td>5.0</td>\n",
       "      <td>5.0</td>\n",
       "      <td>1.0</td>\n",
       "      <td>1.0</td>\n",
       "      <td>1.0</td>\n",
       "      <td>0.0</td>\n",
       "      <td>...</td>\n",
       "      <td>2.0</td>\n",
       "      <td>3.0</td>\n",
       "      <td>3.0</td>\n",
       "      <td>5.0</td>\n",
       "      <td>5.0</td>\n",
       "      <td>5.0</td>\n",
       "      <td>4.0</td>\n",
       "      <td>5.0</td>\n",
       "      <td>2.0</td>\n",
       "      <td>3.0</td>\n",
       "    </tr>\n",
       "    <tr>\n",
       "      <th>...</th>\n",
       "      <td>...</td>\n",
       "      <td>...</td>\n",
       "      <td>...</td>\n",
       "      <td>...</td>\n",
       "      <td>...</td>\n",
       "      <td>...</td>\n",
       "      <td>...</td>\n",
       "      <td>...</td>\n",
       "      <td>...</td>\n",
       "      <td>...</td>\n",
       "      <td>...</td>\n",
       "      <td>...</td>\n",
       "      <td>...</td>\n",
       "      <td>...</td>\n",
       "      <td>...</td>\n",
       "      <td>...</td>\n",
       "      <td>...</td>\n",
       "      <td>...</td>\n",
       "      <td>...</td>\n",
       "      <td>...</td>\n",
       "      <td>...</td>\n",
       "    </tr>\n",
       "    <tr>\n",
       "      <th>41682</th>\n",
       "      <td>2.0</td>\n",
       "      <td>63.0</td>\n",
       "      <td>1.0</td>\n",
       "      <td>1.0</td>\n",
       "      <td>18.0</td>\n",
       "      <td>39.0</td>\n",
       "      <td>2.0</td>\n",
       "      <td>2.0</td>\n",
       "      <td>1.0</td>\n",
       "      <td>0.0</td>\n",
       "      <td>...</td>\n",
       "      <td>3.0</td>\n",
       "      <td>3.0</td>\n",
       "      <td>3.0</td>\n",
       "      <td>5.0</td>\n",
       "      <td>4.0</td>\n",
       "      <td>5.0</td>\n",
       "      <td>2.0</td>\n",
       "      <td>5.0</td>\n",
       "      <td>4.0</td>\n",
       "      <td>3.0</td>\n",
       "    </tr>\n",
       "    <tr>\n",
       "      <th>41683</th>\n",
       "      <td>1.0</td>\n",
       "      <td>49.0</td>\n",
       "      <td>1.0</td>\n",
       "      <td>2.0</td>\n",
       "      <td>14.0</td>\n",
       "      <td>14.0</td>\n",
       "      <td>1.0</td>\n",
       "      <td>1.0</td>\n",
       "      <td>1.0</td>\n",
       "      <td>1.0</td>\n",
       "      <td>...</td>\n",
       "      <td>3.0</td>\n",
       "      <td>2.0</td>\n",
       "      <td>2.0</td>\n",
       "      <td>5.0</td>\n",
       "      <td>5.0</td>\n",
       "      <td>5.0</td>\n",
       "      <td>3.0</td>\n",
       "      <td>4.0</td>\n",
       "      <td>2.0</td>\n",
       "      <td>2.0</td>\n",
       "    </tr>\n",
       "    <tr>\n",
       "      <th>41684</th>\n",
       "      <td>1.0</td>\n",
       "      <td>42.0</td>\n",
       "      <td>1.0</td>\n",
       "      <td>1.0</td>\n",
       "      <td>6.0</td>\n",
       "      <td>17.0</td>\n",
       "      <td>1.0</td>\n",
       "      <td>1.0</td>\n",
       "      <td>1.0</td>\n",
       "      <td>0.0</td>\n",
       "      <td>...</td>\n",
       "      <td>3.0</td>\n",
       "      <td>3.0</td>\n",
       "      <td>3.0</td>\n",
       "      <td>5.0</td>\n",
       "      <td>3.0</td>\n",
       "      <td>4.0</td>\n",
       "      <td>2.0</td>\n",
       "      <td>4.0</td>\n",
       "      <td>2.0</td>\n",
       "      <td>3.0</td>\n",
       "    </tr>\n",
       "    <tr>\n",
       "      <th>41685</th>\n",
       "      <td>2.0</td>\n",
       "      <td>25.0</td>\n",
       "      <td>1.0</td>\n",
       "      <td>1.0</td>\n",
       "      <td>1.0</td>\n",
       "      <td>1.0</td>\n",
       "      <td>1.0</td>\n",
       "      <td>1.0</td>\n",
       "      <td>1.0</td>\n",
       "      <td>0.0</td>\n",
       "      <td>...</td>\n",
       "      <td>3.0</td>\n",
       "      <td>3.0</td>\n",
       "      <td>3.0</td>\n",
       "      <td>5.0</td>\n",
       "      <td>4.0</td>\n",
       "      <td>4.0</td>\n",
       "      <td>3.0</td>\n",
       "      <td>4.0</td>\n",
       "      <td>1.0</td>\n",
       "      <td>3.0</td>\n",
       "    </tr>\n",
       "    <tr>\n",
       "      <th>41686</th>\n",
       "      <td>2.0</td>\n",
       "      <td>59.0</td>\n",
       "      <td>1.0</td>\n",
       "      <td>1.0</td>\n",
       "      <td>20.0</td>\n",
       "      <td>35.0</td>\n",
       "      <td>1.0</td>\n",
       "      <td>1.0</td>\n",
       "      <td>1.0</td>\n",
       "      <td>0.0</td>\n",
       "      <td>...</td>\n",
       "      <td>2.0</td>\n",
       "      <td>2.0</td>\n",
       "      <td>2.0</td>\n",
       "      <td>5.0</td>\n",
       "      <td>4.0</td>\n",
       "      <td>5.0</td>\n",
       "      <td>2.0</td>\n",
       "      <td>4.0</td>\n",
       "      <td>2.0</td>\n",
       "      <td>5.0</td>\n",
       "    </tr>\n",
       "  </tbody>\n",
       "</table>\n",
       "<p>41687 rows × 83 columns</p>\n",
       "</div>"
      ],
      "text/plain": [
       "       TC001Q01NA  TC002Q01NA  TC186Q01HA  TC005Q01NA  TC007Q01NA  TC007Q02NA  \\\n",
       "0             1.0        40.0         1.0         1.0        10.0        10.0   \n",
       "1             2.0        26.0         1.0         1.0         5.0         5.0   \n",
       "2             2.0        38.0         1.0         1.0        11.0        16.0   \n",
       "3             1.0        42.0         1.0         1.0         2.0         3.0   \n",
       "4             1.0        30.0         1.0         1.0         5.0         5.0   \n",
       "...           ...         ...         ...         ...         ...         ...   \n",
       "41682         2.0        63.0         1.0         1.0        18.0        39.0   \n",
       "41683         1.0        49.0         1.0         2.0        14.0        14.0   \n",
       "41684         1.0        42.0         1.0         1.0         6.0        17.0   \n",
       "41685         2.0        25.0         1.0         1.0         1.0         1.0   \n",
       "41686         2.0        59.0         1.0         1.0        20.0        35.0   \n",
       "\n",
       "       TC188Q01HA  TC014Q01HA  TC015Q01NA  TC018Q01NA  ...  TC192Q01HA  \\\n",
       "0             1.0         2.0         1.0         1.0  ...         3.0   \n",
       "1             1.0         1.0         1.0         0.0  ...         2.0   \n",
       "2             1.0         2.0         1.0         0.0  ...         3.0   \n",
       "3             1.0         2.0         1.0         0.0  ...         2.0   \n",
       "4             1.0         1.0         1.0         0.0  ...         2.0   \n",
       "...           ...         ...         ...         ...  ...         ...   \n",
       "41682         2.0         2.0         1.0         0.0  ...         3.0   \n",
       "41683         1.0         1.0         1.0         1.0  ...         3.0   \n",
       "41684         1.0         1.0         1.0         0.0  ...         3.0   \n",
       "41685         1.0         1.0         1.0         0.0  ...         3.0   \n",
       "41686         1.0         1.0         1.0         0.0  ...         2.0   \n",
       "\n",
       "       TC192Q02HA  TC192Q05HA  TC176Q01HA  TC176Q02HA  TC176Q03HA  TC176Q06HA  \\\n",
       "0             3.0         3.0         4.0         3.0         4.0         3.0   \n",
       "1             2.0         2.0         4.0         4.0         4.0         4.0   \n",
       "2             3.0         3.0         4.0         5.0         5.0         4.0   \n",
       "3             2.0         3.0         2.0         3.0         4.0         2.0   \n",
       "4             3.0         3.0         5.0         5.0         5.0         4.0   \n",
       "...           ...         ...         ...         ...         ...         ...   \n",
       "41682         3.0         3.0         5.0         4.0         5.0         2.0   \n",
       "41683         2.0         2.0         5.0         5.0         5.0         3.0   \n",
       "41684         3.0         3.0         5.0         3.0         4.0         2.0   \n",
       "41685         3.0         3.0         5.0         4.0         4.0         3.0   \n",
       "41686         2.0         2.0         5.0         4.0         5.0         2.0   \n",
       "\n",
       "       TC176Q07HA  TC172Q01HA  TC173Q01HA  \n",
       "0             4.0         2.0         2.0  \n",
       "1             4.0         2.0         4.0  \n",
       "2             4.0         3.0         5.0  \n",
       "3             4.0         2.0         3.0  \n",
       "4             5.0         2.0         3.0  \n",
       "...           ...         ...         ...  \n",
       "41682         5.0         4.0         3.0  \n",
       "41683         4.0         2.0         2.0  \n",
       "41684         4.0         2.0         3.0  \n",
       "41685         4.0         1.0         3.0  \n",
       "41686         4.0         2.0         5.0  \n",
       "\n",
       "[41687 rows x 83 columns]"
      ]
     },
     "execution_count": 9,
     "metadata": {},
     "output_type": "execute_result"
    }
   ],
   "source": [
    "x"
   ]
  },
  {
   "cell_type": "code",
   "execution_count": 10,
   "metadata": {},
   "outputs": [
    {
     "data": {
      "text/plain": [
       "0        Alta\n",
       "1        Alta\n",
       "2        Alta\n",
       "3        Alta\n",
       "4        Alta\n",
       "         ... \n",
       "41682    Alta\n",
       "41683    Alta\n",
       "41684    Alta\n",
       "41685    Alta\n",
       "41686    Alta\n",
       "Name: nivelCiencias, Length: 41687, dtype: object"
      ]
     },
     "execution_count": 10,
     "metadata": {},
     "output_type": "execute_result"
    }
   ],
   "source": [
    "y"
   ]
  },
  {
   "cell_type": "markdown",
   "metadata": {},
   "source": [
    "##  Split do dataset  em treinamento e teste"
   ]
  },
  {
   "cell_type": "code",
   "execution_count": 11,
   "metadata": {},
   "outputs": [],
   "source": [
    "x_train, x_test, y_train, y_test = train_test_split(x,y, test_size=0.30)"
   ]
  },
  {
   "cell_type": "markdown",
   "metadata": {},
   "source": [
    "### Verificando o formato dos dados de treinamento e teste"
   ]
  },
  {
   "cell_type": "code",
   "execution_count": 12,
   "metadata": {},
   "outputs": [
    {
     "data": {
      "text/plain": [
       "((29180, 83), (12507, 83))"
      ]
     },
     "execution_count": 12,
     "metadata": {},
     "output_type": "execute_result"
    }
   ],
   "source": [
    "x_train.shape,x_test.shape"
   ]
  },
  {
   "cell_type": "code",
   "execution_count": 13,
   "metadata": {},
   "outputs": [
    {
     "data": {
      "text/plain": [
       "((29180,), (12507,))"
      ]
     },
     "execution_count": 13,
     "metadata": {},
     "output_type": "execute_result"
    }
   ],
   "source": [
    "y_train.shape,y_test.shape"
   ]
  },
  {
   "cell_type": "markdown",
   "metadata": {},
   "source": [
    "## Preparando o classificador  de árvore de decisão"
   ]
  },
  {
   "cell_type": "code",
   "execution_count": 14,
   "metadata": {},
   "outputs": [],
   "source": [
    "from sklearn.tree import DecisionTreeClassifier, export_graphviz\n"
   ]
  },
  {
   "cell_type": "markdown",
   "metadata": {},
   "source": []
  },
  {
   "cell_type": "code",
   "execution_count": 15,
   "metadata": {},
   "outputs": [
    {
     "data": {
      "text/plain": [
       "DecisionTreeClassifier()"
      ]
     },
     "execution_count": 15,
     "metadata": {},
     "output_type": "execute_result"
    }
   ],
   "source": [
    "dtree =  DecisionTreeClassifier()\n",
    "dtree.fit(x_train,y_train)"
   ]
  },
  {
   "cell_type": "code",
   "execution_count": 16,
   "metadata": {},
   "outputs": [
    {
     "data": {
      "text/plain": [
       "{'ccp_alpha': 0.0,\n",
       " 'class_weight': None,\n",
       " 'criterion': 'gini',\n",
       " 'max_depth': None,\n",
       " 'max_features': None,\n",
       " 'max_leaf_nodes': None,\n",
       " 'min_impurity_decrease': 0.0,\n",
       " 'min_samples_leaf': 1,\n",
       " 'min_samples_split': 2,\n",
       " 'min_weight_fraction_leaf': 0.0,\n",
       " 'random_state': None,\n",
       " 'splitter': 'best'}"
      ]
     },
     "execution_count": 16,
     "metadata": {},
     "output_type": "execute_result"
    }
   ],
   "source": [
    "dtree.get_params()"
   ]
  },
  {
   "cell_type": "code",
   "execution_count": 17,
   "metadata": {},
   "outputs": [],
   "source": [
    "pred =dtree.predict(x_test)"
   ]
  },
  {
   "cell_type": "code",
   "execution_count": 18,
   "metadata": {},
   "outputs": [
    {
     "data": {
      "text/plain": [
       "array([0.00763703, 0.02610392, 0.01264895, 0.01980279, 0.02022257,\n",
       "       0.0227593 , 0.05911778, 0.01168381, 0.00871333, 0.02074254,\n",
       "       0.00411111, 0.01649897, 0.00384389, 0.00344127, 0.00447718,\n",
       "       0.01018814, 0.03022209, 0.00436406, 0.07268974, 0.00597619,\n",
       "       0.01086258, 0.00480532, 0.00417598, 0.00825925, 0.00473108,\n",
       "       0.03575409, 0.0055573 , 0.00573551, 0.03052943, 0.01454909,\n",
       "       0.017473  , 0.00522955, 0.00463145, 0.00660154, 0.00301215,\n",
       "       0.01637697, 0.00973164, 0.01259209, 0.02305673, 0.00691874,\n",
       "       0.00734107, 0.00640842, 0.00595963, 0.00855719, 0.00515516,\n",
       "       0.00472876, 0.00589715, 0.00775241, 0.00643917, 0.00399316,\n",
       "       0.00431499, 0.00344707, 0.00582878, 0.0055719 , 0.00619791,\n",
       "       0.00761617, 0.00857017, 0.00523983, 0.01019256, 0.01447738,\n",
       "       0.02102415, 0.00403009, 0.01102094, 0.00635723, 0.01799839,\n",
       "       0.00650885, 0.01071504, 0.01413847, 0.00975596, 0.00442714,\n",
       "       0.00424913, 0.00550197, 0.00569897, 0.00783934, 0.0053131 ,\n",
       "       0.01087147, 0.08179083, 0.00949422, 0.00548087, 0.00977744,\n",
       "       0.00700629, 0.00551061, 0.0059725 ])"
      ]
     },
     "execution_count": 18,
     "metadata": {},
     "output_type": "execute_result"
    }
   ],
   "source": [
    "dtree.feature_importances_"
   ]
  },
  {
   "cell_type": "markdown",
   "metadata": {},
   "source": [
    "## Avaliando o modelo"
   ]
  },
  {
   "cell_type": "code",
   "execution_count": 19,
   "metadata": {},
   "outputs": [
    {
     "name": "stdout",
     "output_type": "stream",
     "text": [
      "TC001Q01NA , 0.007637027296843266\n",
      "TC002Q01NA , 0.02610392193329614\n",
      "TC186Q01HA , 0.012648951242270464\n",
      "TC005Q01NA , 0.019802789242379663\n",
      "TC007Q01NA , 0.020222566710910498\n",
      "TC007Q02NA , 0.02275929528788973\n",
      "TC188Q01HA , 0.059117778831591285\n",
      "TC014Q01HA , 0.011683805347063583\n",
      "TC015Q01NA , 0.008713329534350667\n",
      "TC018Q01NA , 0.02074253534044788\n",
      "TC018Q02NA , 0.0041111118950851976\n",
      "TC018Q04NA , 0.016498966730586172\n",
      "TC018Q05NA , 0.003843894439021038\n",
      "TC018Q10NA , 0.0034412666297967778\n",
      "TC018Q11NA , 0.004477179096622453\n",
      "TC045Q09NA , 0.010188136317894796\n",
      "TC193Q01HA , 0.030222090196921778\n",
      "TC193Q02HA , 0.004364059356045922\n",
      "TC020Q01NA , 0.07268973917654308\n",
      "TC175Q01HA , 0.005976185110787607\n",
      "TC198Q01HA , 0.010862579089889699\n",
      "TC198Q02HA , 0.004805315916612184\n",
      "TC198Q03HA , 0.004175976335092272\n",
      "TC198Q06HA , 0.00825924641304018\n",
      "TC198Q07HA , 0.004731083944421969\n",
      "TC198Q08HA , 0.03575408884628092\n",
      "TC198Q10HA , 0.005557297056391895\n",
      "TC199Q01HA , 0.005735505234628688\n",
      "TC199Q02HA , 0.0305294330429066\n",
      "TC199Q03HA , 0.014549094199299561\n",
      "TC199Q05HA , 0.017472998651104837\n",
      "TC199Q06HA , 0.005229553683940491\n",
      "TC199Q07HA , 0.004631445910564869\n",
      "TC199Q10HA , 0.006601537144316646\n",
      "TC199Q12HA , 0.0030121492563841583\n",
      "TC046Q04NA , 0.016376972057311208\n",
      "TC046Q05NA , 0.009731637055608625\n",
      "TC046Q06NA , 0.012592085523215195\n",
      "TC046Q07NA , 0.02305672660353139\n",
      "TC028Q01NA , 0.006918739196828466\n",
      "TC028Q02NA , 0.007341073634657565\n",
      "TC028Q03NA , 0.006408420469271708\n",
      "TC028Q04NA , 0.005959626961533234\n",
      "TC028Q05NA , 0.0085571936429849\n",
      "TC028Q06NA , 0.005155161805159236\n",
      "TC028Q07NA , 0.004728760918504316\n",
      "TC028Q08NA , 0.005897147194216726\n",
      "TC152Q01HA , 0.007752411885131003\n",
      "TC152Q03HA , 0.006439172336384831\n",
      "TC152Q04HA , 0.0039931618027216845\n",
      "TC155Q02HA , 0.004314994298496483\n",
      "TC155Q03HA , 0.0034470713261095434\n",
      "TC155Q04HA , 0.00582878470783632\n",
      "TC155Q05HA , 0.005571898135160518\n",
      "TC155Q06HA , 0.006197908657353686\n",
      "TC155Q07HA , 0.007616170222182925\n",
      "TC164Q01HA , 0.0085701658374985\n",
      "TC169Q01HA , 0.005239831251893072\n",
      "TC169Q02HA , 0.010192557720244919\n",
      "TC169Q03HA , 0.014477383989672854\n",
      "TC169Q04HA , 0.02102414982460048\n",
      "TC169Q07HA , 0.004030086211180479\n",
      "TC169Q09HA , 0.01102094329484563\n",
      "TC169Q10HA , 0.006357232454003531\n",
      "TC169Q11HA , 0.017998393894999475\n",
      "TC169Q12HA , 0.006508848732163038\n",
      "TC054Q01NA , 0.010715035504342682\n",
      "TC054Q02NA , 0.01413847102103741\n",
      "TC054Q03NA , 0.00975596153230316\n",
      "TC054Q04NA , 0.0044271397984612425\n",
      "TC054Q05NA , 0.00424912849881424\n",
      "TC054Q06NA , 0.005501972291025077\n",
      "TC054Q07NA , 0.005698965155371188\n",
      "TC192Q01HA , 0.00783933809269733\n",
      "TC192Q02HA , 0.005313099584181406\n",
      "TC192Q05HA , 0.010871466400887344\n",
      "TC176Q01HA , 0.08179083094556057\n",
      "TC176Q02HA , 0.009494221905787555\n",
      "TC176Q03HA , 0.005480874015822822\n",
      "TC176Q06HA , 0.00977744269146727\n",
      "TC176Q07HA , 0.007006294316153157\n",
      "TC172Q01HA , 0.005510608488451337\n",
      "TC173Q01HA , 0.005972503671111766\n"
     ]
    }
   ],
   "source": [
    "for  feature, importancia in zip(professoresDF.columns,dtree.feature_importances_):\n",
    "    print(\"{} , {}\".format(feature,importancia))"
   ]
  },
  {
   "cell_type": "code",
   "execution_count": 20,
   "metadata": {},
   "outputs": [],
   "source": [
    "from sklearn.metrics import  classification_report, confusion_matrix"
   ]
  },
  {
   "cell_type": "code",
   "execution_count": 21,
   "metadata": {},
   "outputs": [
    {
     "name": "stdout",
     "output_type": "stream",
     "text": [
      "              precision    recall  f1-score   support\n",
      "\n",
      "        Alta       0.87      0.86      0.87      9079\n",
      "       Baixa       0.65      0.65      0.65      3428\n",
      "\n",
      "    accuracy                           0.81     12507\n",
      "   macro avg       0.76      0.76      0.76     12507\n",
      "weighted avg       0.81      0.81      0.81     12507\n",
      "\n"
     ]
    }
   ],
   "source": [
    "print(classification_report(y_test,pred))"
   ]
  },
  {
   "cell_type": "code",
   "execution_count": 22,
   "metadata": {},
   "outputs": [
    {
     "name": "stdout",
     "output_type": "stream",
     "text": [
      "[[7851 1228]\n",
      " [1194 2234]]\n"
     ]
    }
   ],
   "source": [
    "print(confusion_matrix(y_test,pred))"
   ]
  },
  {
   "cell_type": "markdown",
   "metadata": {},
   "source": [
    "## Matthews correlation coefficient (MCC)."
   ]
  },
  {
   "cell_type": "code",
   "execution_count": 23,
   "metadata": {},
   "outputs": [
    {
     "data": {
      "text/plain": [
       "0.5148575250526365"
      ]
     },
     "execution_count": 23,
     "metadata": {},
     "output_type": "execute_result"
    }
   ],
   "source": [
    "from sklearn.metrics import matthews_corrcoef\n",
    "matthews_corrcoef(y_test, pred)"
   ]
  }
 ],
 "metadata": {
  "kernelspec": {
   "display_name": "Python 3.7.3 64-bit",
   "language": "python",
   "name": "python3"
  },
  "language_info": {
   "codemirror_mode": {
    "name": "ipython",
    "version": 3
   },
   "file_extension": ".py",
   "mimetype": "text/x-python",
   "name": "python",
   "nbconvert_exporter": "python",
   "pygments_lexer": "ipython3",
   "version": "3.7.3"
  },
  "orig_nbformat": 4,
  "vscode": {
   "interpreter": {
    "hash": "916dbcbb3f70747c44a77c7bcd40155683ae19c65e1c03b4aa3499c5328201f1"
   }
  }
 },
 "nbformat": 4,
 "nbformat_minor": 2
}
